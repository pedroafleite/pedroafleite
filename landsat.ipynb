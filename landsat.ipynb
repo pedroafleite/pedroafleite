{
  "nbformat": 4,
  "nbformat_minor": 0,
  "metadata": {
    "colab": {
      "name": "landsat.ipynb",
      "provenance": [],
      "collapsed_sections": [],
      "authorship_tag": "ABX9TyMxZuzZsXnYyGkmQdTsmm3g",
      "include_colab_link": true
    },
    "kernelspec": {
      "name": "python3",
      "display_name": "Python 3"
    }
  },
  "cells": [
    {
      "cell_type": "markdown",
      "metadata": {
        "id": "view-in-github",
        "colab_type": "text"
      },
      "source": [
        "<a href=\"https://colab.research.google.com/github/pedroafleite/pedroafleite/blob/main/landsat.ipynb\" target=\"_parent\"><img src=\"https://colab.research.google.com/assets/colab-badge.svg\" alt=\"Open In Colab\"/></a>"
      ]
    },
    {
      "cell_type": "code",
      "metadata": {
        "colab": {
          "base_uri": "https://localhost:8080/"
        },
        "id": "Ybh5aTsYihz5",
        "outputId": "852b273c-e517-4709-dc43-ddc6fe2e5fdc"
      },
      "source": [
        "import numpy as np\r\n",
        "import pandas as pd\r\n",
        "import matplotlib.pyplot as plt\r\n",
        "%matplotlib inline\r\n",
        "\r\n",
        "from google.colab import drive\r\n",
        "drive.mount('/content/drive')"
      ],
      "execution_count": 1,
      "outputs": [
        {
          "output_type": "stream",
          "text": [
            "Drive already mounted at /content/drive; to attempt to forcibly remount, call drive.mount(\"/content/drive\", force_remount=True).\n"
          ],
          "name": "stdout"
        }
      ]
    },
    {
      "cell_type": "code",
      "metadata": {
        "colab": {
          "base_uri": "https://localhost:8080/"
        },
        "id": "kLtzHDdKvLCP",
        "outputId": "f33e2c63-89d3-4c55-d285-3de30e58f57b"
      },
      "source": [
        "sat = pd.read_csv(\"/content/drive/MyDrive/Colab Notebooks/landsat/sat.trn\", sep=' ', header=None)\r\n",
        "print(sat.shape)\r\n",
        "sat_test = pd.read_csv(\"/content/drive/MyDrive/Colab Notebooks/landsat/sat.tst\", sep=' ', header=None)\r\n",
        "print(sat_test.shape)"
      ],
      "execution_count": 2,
      "outputs": [
        {
          "output_type": "stream",
          "text": [
            "(4435, 37)\n",
            "(2000, 37)\n"
          ],
          "name": "stdout"
        }
      ]
    },
    {
      "cell_type": "code",
      "metadata": {
        "id": "IaPaV3-TxUvT"
      },
      "source": [
        "sat.rename(columns={36: 'Class'}, inplace=True)"
      ],
      "execution_count": 3,
      "outputs": []
    },
    {
      "cell_type": "code",
      "metadata": {
        "colab": {
          "base_uri": "https://localhost:8080/",
          "height": 224
        },
        "id": "PrqLfUYd_wtc",
        "outputId": "9f2226e2-028c-4ab2-d523-d6085f59af34"
      },
      "source": [
        "sat.head()"
      ],
      "execution_count": 4,
      "outputs": [
        {
          "output_type": "execute_result",
          "data": {
            "text/html": [
              "<div>\n",
              "<style scoped>\n",
              "    .dataframe tbody tr th:only-of-type {\n",
              "        vertical-align: middle;\n",
              "    }\n",
              "\n",
              "    .dataframe tbody tr th {\n",
              "        vertical-align: top;\n",
              "    }\n",
              "\n",
              "    .dataframe thead th {\n",
              "        text-align: right;\n",
              "    }\n",
              "</style>\n",
              "<table border=\"1\" class=\"dataframe\">\n",
              "  <thead>\n",
              "    <tr style=\"text-align: right;\">\n",
              "      <th></th>\n",
              "      <th>0</th>\n",
              "      <th>1</th>\n",
              "      <th>2</th>\n",
              "      <th>3</th>\n",
              "      <th>4</th>\n",
              "      <th>5</th>\n",
              "      <th>6</th>\n",
              "      <th>7</th>\n",
              "      <th>8</th>\n",
              "      <th>9</th>\n",
              "      <th>10</th>\n",
              "      <th>11</th>\n",
              "      <th>12</th>\n",
              "      <th>13</th>\n",
              "      <th>14</th>\n",
              "      <th>15</th>\n",
              "      <th>16</th>\n",
              "      <th>17</th>\n",
              "      <th>18</th>\n",
              "      <th>19</th>\n",
              "      <th>20</th>\n",
              "      <th>21</th>\n",
              "      <th>22</th>\n",
              "      <th>23</th>\n",
              "      <th>24</th>\n",
              "      <th>25</th>\n",
              "      <th>26</th>\n",
              "      <th>27</th>\n",
              "      <th>28</th>\n",
              "      <th>29</th>\n",
              "      <th>30</th>\n",
              "      <th>31</th>\n",
              "      <th>32</th>\n",
              "      <th>33</th>\n",
              "      <th>34</th>\n",
              "      <th>35</th>\n",
              "      <th>Class</th>\n",
              "    </tr>\n",
              "  </thead>\n",
              "  <tbody>\n",
              "    <tr>\n",
              "      <th>0</th>\n",
              "      <td>92</td>\n",
              "      <td>115</td>\n",
              "      <td>120</td>\n",
              "      <td>94</td>\n",
              "      <td>84</td>\n",
              "      <td>102</td>\n",
              "      <td>106</td>\n",
              "      <td>79</td>\n",
              "      <td>84</td>\n",
              "      <td>102</td>\n",
              "      <td>102</td>\n",
              "      <td>83</td>\n",
              "      <td>101</td>\n",
              "      <td>126</td>\n",
              "      <td>133</td>\n",
              "      <td>103</td>\n",
              "      <td>92</td>\n",
              "      <td>112</td>\n",
              "      <td>118</td>\n",
              "      <td>85</td>\n",
              "      <td>84</td>\n",
              "      <td>103</td>\n",
              "      <td>104</td>\n",
              "      <td>81</td>\n",
              "      <td>102</td>\n",
              "      <td>126</td>\n",
              "      <td>134</td>\n",
              "      <td>104</td>\n",
              "      <td>88</td>\n",
              "      <td>121</td>\n",
              "      <td>128</td>\n",
              "      <td>100</td>\n",
              "      <td>84</td>\n",
              "      <td>107</td>\n",
              "      <td>113</td>\n",
              "      <td>87</td>\n",
              "      <td>3</td>\n",
              "    </tr>\n",
              "    <tr>\n",
              "      <th>1</th>\n",
              "      <td>84</td>\n",
              "      <td>102</td>\n",
              "      <td>106</td>\n",
              "      <td>79</td>\n",
              "      <td>84</td>\n",
              "      <td>102</td>\n",
              "      <td>102</td>\n",
              "      <td>83</td>\n",
              "      <td>80</td>\n",
              "      <td>102</td>\n",
              "      <td>102</td>\n",
              "      <td>79</td>\n",
              "      <td>92</td>\n",
              "      <td>112</td>\n",
              "      <td>118</td>\n",
              "      <td>85</td>\n",
              "      <td>84</td>\n",
              "      <td>103</td>\n",
              "      <td>104</td>\n",
              "      <td>81</td>\n",
              "      <td>84</td>\n",
              "      <td>99</td>\n",
              "      <td>104</td>\n",
              "      <td>78</td>\n",
              "      <td>88</td>\n",
              "      <td>121</td>\n",
              "      <td>128</td>\n",
              "      <td>100</td>\n",
              "      <td>84</td>\n",
              "      <td>107</td>\n",
              "      <td>113</td>\n",
              "      <td>87</td>\n",
              "      <td>84</td>\n",
              "      <td>99</td>\n",
              "      <td>104</td>\n",
              "      <td>79</td>\n",
              "      <td>3</td>\n",
              "    </tr>\n",
              "    <tr>\n",
              "      <th>2</th>\n",
              "      <td>84</td>\n",
              "      <td>102</td>\n",
              "      <td>102</td>\n",
              "      <td>83</td>\n",
              "      <td>80</td>\n",
              "      <td>102</td>\n",
              "      <td>102</td>\n",
              "      <td>79</td>\n",
              "      <td>84</td>\n",
              "      <td>94</td>\n",
              "      <td>102</td>\n",
              "      <td>79</td>\n",
              "      <td>84</td>\n",
              "      <td>103</td>\n",
              "      <td>104</td>\n",
              "      <td>81</td>\n",
              "      <td>84</td>\n",
              "      <td>99</td>\n",
              "      <td>104</td>\n",
              "      <td>78</td>\n",
              "      <td>84</td>\n",
              "      <td>99</td>\n",
              "      <td>104</td>\n",
              "      <td>81</td>\n",
              "      <td>84</td>\n",
              "      <td>107</td>\n",
              "      <td>113</td>\n",
              "      <td>87</td>\n",
              "      <td>84</td>\n",
              "      <td>99</td>\n",
              "      <td>104</td>\n",
              "      <td>79</td>\n",
              "      <td>84</td>\n",
              "      <td>99</td>\n",
              "      <td>104</td>\n",
              "      <td>79</td>\n",
              "      <td>3</td>\n",
              "    </tr>\n",
              "    <tr>\n",
              "      <th>3</th>\n",
              "      <td>80</td>\n",
              "      <td>102</td>\n",
              "      <td>102</td>\n",
              "      <td>79</td>\n",
              "      <td>84</td>\n",
              "      <td>94</td>\n",
              "      <td>102</td>\n",
              "      <td>79</td>\n",
              "      <td>80</td>\n",
              "      <td>94</td>\n",
              "      <td>98</td>\n",
              "      <td>76</td>\n",
              "      <td>84</td>\n",
              "      <td>99</td>\n",
              "      <td>104</td>\n",
              "      <td>78</td>\n",
              "      <td>84</td>\n",
              "      <td>99</td>\n",
              "      <td>104</td>\n",
              "      <td>81</td>\n",
              "      <td>76</td>\n",
              "      <td>99</td>\n",
              "      <td>104</td>\n",
              "      <td>81</td>\n",
              "      <td>84</td>\n",
              "      <td>99</td>\n",
              "      <td>104</td>\n",
              "      <td>79</td>\n",
              "      <td>84</td>\n",
              "      <td>99</td>\n",
              "      <td>104</td>\n",
              "      <td>79</td>\n",
              "      <td>84</td>\n",
              "      <td>103</td>\n",
              "      <td>104</td>\n",
              "      <td>79</td>\n",
              "      <td>3</td>\n",
              "    </tr>\n",
              "    <tr>\n",
              "      <th>4</th>\n",
              "      <td>84</td>\n",
              "      <td>94</td>\n",
              "      <td>102</td>\n",
              "      <td>79</td>\n",
              "      <td>80</td>\n",
              "      <td>94</td>\n",
              "      <td>98</td>\n",
              "      <td>76</td>\n",
              "      <td>80</td>\n",
              "      <td>102</td>\n",
              "      <td>102</td>\n",
              "      <td>79</td>\n",
              "      <td>84</td>\n",
              "      <td>99</td>\n",
              "      <td>104</td>\n",
              "      <td>81</td>\n",
              "      <td>76</td>\n",
              "      <td>99</td>\n",
              "      <td>104</td>\n",
              "      <td>81</td>\n",
              "      <td>76</td>\n",
              "      <td>99</td>\n",
              "      <td>108</td>\n",
              "      <td>85</td>\n",
              "      <td>84</td>\n",
              "      <td>99</td>\n",
              "      <td>104</td>\n",
              "      <td>79</td>\n",
              "      <td>84</td>\n",
              "      <td>103</td>\n",
              "      <td>104</td>\n",
              "      <td>79</td>\n",
              "      <td>79</td>\n",
              "      <td>107</td>\n",
              "      <td>109</td>\n",
              "      <td>87</td>\n",
              "      <td>3</td>\n",
              "    </tr>\n",
              "  </tbody>\n",
              "</table>\n",
              "</div>"
            ],
            "text/plain": [
              "    0    1    2   3   4    5    6   7  ...   29   30   31  32   33   34  35  Class\n",
              "0  92  115  120  94  84  102  106  79  ...  121  128  100  84  107  113  87      3\n",
              "1  84  102  106  79  84  102  102  83  ...  107  113   87  84   99  104  79      3\n",
              "2  84  102  102  83  80  102  102  79  ...   99  104   79  84   99  104  79      3\n",
              "3  80  102  102  79  84   94  102  79  ...   99  104   79  84  103  104  79      3\n",
              "4  84   94  102  79  80   94   98  76  ...  103  104   79  79  107  109  87      3\n",
              "\n",
              "[5 rows x 37 columns]"
            ]
          },
          "metadata": {
            "tags": []
          },
          "execution_count": 4
        }
      ]
    },
    {
      "cell_type": "code",
      "metadata": {
        "colab": {
          "base_uri": "https://localhost:8080/"
        },
        "id": "pLcsVWRuCBQg",
        "outputId": "555c352e-7c4a-4f68-8428-cdb9fb9fd8c5"
      },
      "source": [
        "sat['Class'].value_counts()"
      ],
      "execution_count": 5,
      "outputs": [
        {
          "output_type": "execute_result",
          "data": {
            "text/plain": [
              "1    1072\n",
              "7    1038\n",
              "3     961\n",
              "2     479\n",
              "5     470\n",
              "4     415\n",
              "Name: Class, dtype: int64"
            ]
          },
          "metadata": {
            "tags": []
          },
          "execution_count": 5
        }
      ]
    },
    {
      "cell_type": "markdown",
      "metadata": {
        "id": "miaVk1OnE7WR"
      },
      "source": [
        "## Binary Classification\r\n",
        "\r\n",
        "One frame of Landsat MSS imagery consists of four digital images of the same scene in different spectral bands. Two of these are in the visible region (corresponding approximately to green and red regions of the visible spectrum) and two are in the (near) infra-red. Each pixel is a 8-bit binary word, with 0 corresponding to black and 255 to white. The spatial resolution of a pixel is about 80m x 80m. Each image contains 2340 x 3380 such pixels.\r\n",
        "\r\n",
        "The database is a (tiny) sub-area of a scene, consisting of 82 x 100 pixels. Each line of data corresponds to a 3x3 square neighbourhood of pixels completely contained within the 82x100 sub-area. Each line contains the pixel values in the four spectral bands (converted to ASCII) of each of the 9 pixels in the 3x3 neighbourhood and a number indicating the classification label of the central pixel. The number is a code for the following classes:\r\n",
        "\r\n",
        "\r\n",
        "Remember that Number Class:\r\n",
        "\r\n",
        "1 red soil\r\n",
        "\r\n",
        "2 cotton crop\r\n",
        "\r\n",
        "3 grey soil\r\n",
        "\r\n",
        "4 damp grey soil\r\n",
        "\r\n",
        "5 soil with vegetation stubble\r\n",
        "\r\n",
        "6 mixture class (all types present)\r\n",
        "\r\n",
        "7 very damp grey soil"
      ]
    },
    {
      "cell_type": "code",
      "metadata": {
        "colab": {
          "base_uri": "https://localhost:8080/",
          "height": 439
        },
        "id": "NYj6foskm-ls",
        "outputId": "14cb4b46-39f5-4eaa-be2a-c990d0076234"
      },
      "source": [
        "txt = ['top_left1', 'top_left2', 'top_left3', 'top_left4', \r\n",
        "       'top_center1', 'top_center2', 'top_center3', 'top_center4',\r\n",
        "       'top_right1', 'top_right2', 'top_right3', 'top_right4',\r\n",
        "       'middle_left1', 'middle_left2', 'middle_left3', 'middle_left4', \r\n",
        "       'middle_center1', 'middle_center2', 'middle_center3', 'middle_center4',\r\n",
        "       'middle_right1', 'middle_right2', 'middle_right3', 'middle_right4',\r\n",
        "       'bottom_left1', 'bottom_left2', 'bottom_left3', 'bottom_left4', \r\n",
        "       'bottom_center1', 'bottom_center2', 'bottom_center3', 'bottom_center4',\r\n",
        "       'bottom_right1', 'bottom_right2', 'bottom_right3', 'bottom_right4', 'Class']\r\n",
        "sat = pd.read_csv(\"/content/drive/MyDrive/Colab Notebooks/landsat/sat.trn\", sep=' ', dtype=str, names=txt)\r\n",
        "sat"
      ],
      "execution_count": 6,
      "outputs": [
        {
          "output_type": "execute_result",
          "data": {
            "text/html": [
              "<div>\n",
              "<style scoped>\n",
              "    .dataframe tbody tr th:only-of-type {\n",
              "        vertical-align: middle;\n",
              "    }\n",
              "\n",
              "    .dataframe tbody tr th {\n",
              "        vertical-align: top;\n",
              "    }\n",
              "\n",
              "    .dataframe thead th {\n",
              "        text-align: right;\n",
              "    }\n",
              "</style>\n",
              "<table border=\"1\" class=\"dataframe\">\n",
              "  <thead>\n",
              "    <tr style=\"text-align: right;\">\n",
              "      <th></th>\n",
              "      <th>top_left1</th>\n",
              "      <th>top_left2</th>\n",
              "      <th>top_left3</th>\n",
              "      <th>top_left4</th>\n",
              "      <th>top_center1</th>\n",
              "      <th>top_center2</th>\n",
              "      <th>top_center3</th>\n",
              "      <th>top_center4</th>\n",
              "      <th>top_right1</th>\n",
              "      <th>top_right2</th>\n",
              "      <th>top_right3</th>\n",
              "      <th>top_right4</th>\n",
              "      <th>middle_left1</th>\n",
              "      <th>middle_left2</th>\n",
              "      <th>middle_left3</th>\n",
              "      <th>middle_left4</th>\n",
              "      <th>middle_center1</th>\n",
              "      <th>middle_center2</th>\n",
              "      <th>middle_center3</th>\n",
              "      <th>middle_center4</th>\n",
              "      <th>middle_right1</th>\n",
              "      <th>middle_right2</th>\n",
              "      <th>middle_right3</th>\n",
              "      <th>middle_right4</th>\n",
              "      <th>bottom_left1</th>\n",
              "      <th>bottom_left2</th>\n",
              "      <th>bottom_left3</th>\n",
              "      <th>bottom_left4</th>\n",
              "      <th>bottom_center1</th>\n",
              "      <th>bottom_center2</th>\n",
              "      <th>bottom_center3</th>\n",
              "      <th>bottom_center4</th>\n",
              "      <th>bottom_right1</th>\n",
              "      <th>bottom_right2</th>\n",
              "      <th>bottom_right3</th>\n",
              "      <th>bottom_right4</th>\n",
              "      <th>Class</th>\n",
              "    </tr>\n",
              "  </thead>\n",
              "  <tbody>\n",
              "    <tr>\n",
              "      <th>0</th>\n",
              "      <td>92</td>\n",
              "      <td>115</td>\n",
              "      <td>120</td>\n",
              "      <td>94</td>\n",
              "      <td>84</td>\n",
              "      <td>102</td>\n",
              "      <td>106</td>\n",
              "      <td>79</td>\n",
              "      <td>84</td>\n",
              "      <td>102</td>\n",
              "      <td>102</td>\n",
              "      <td>83</td>\n",
              "      <td>101</td>\n",
              "      <td>126</td>\n",
              "      <td>133</td>\n",
              "      <td>103</td>\n",
              "      <td>92</td>\n",
              "      <td>112</td>\n",
              "      <td>118</td>\n",
              "      <td>85</td>\n",
              "      <td>84</td>\n",
              "      <td>103</td>\n",
              "      <td>104</td>\n",
              "      <td>81</td>\n",
              "      <td>102</td>\n",
              "      <td>126</td>\n",
              "      <td>134</td>\n",
              "      <td>104</td>\n",
              "      <td>88</td>\n",
              "      <td>121</td>\n",
              "      <td>128</td>\n",
              "      <td>100</td>\n",
              "      <td>84</td>\n",
              "      <td>107</td>\n",
              "      <td>113</td>\n",
              "      <td>87</td>\n",
              "      <td>3</td>\n",
              "    </tr>\n",
              "    <tr>\n",
              "      <th>1</th>\n",
              "      <td>84</td>\n",
              "      <td>102</td>\n",
              "      <td>106</td>\n",
              "      <td>79</td>\n",
              "      <td>84</td>\n",
              "      <td>102</td>\n",
              "      <td>102</td>\n",
              "      <td>83</td>\n",
              "      <td>80</td>\n",
              "      <td>102</td>\n",
              "      <td>102</td>\n",
              "      <td>79</td>\n",
              "      <td>92</td>\n",
              "      <td>112</td>\n",
              "      <td>118</td>\n",
              "      <td>85</td>\n",
              "      <td>84</td>\n",
              "      <td>103</td>\n",
              "      <td>104</td>\n",
              "      <td>81</td>\n",
              "      <td>84</td>\n",
              "      <td>99</td>\n",
              "      <td>104</td>\n",
              "      <td>78</td>\n",
              "      <td>88</td>\n",
              "      <td>121</td>\n",
              "      <td>128</td>\n",
              "      <td>100</td>\n",
              "      <td>84</td>\n",
              "      <td>107</td>\n",
              "      <td>113</td>\n",
              "      <td>87</td>\n",
              "      <td>84</td>\n",
              "      <td>99</td>\n",
              "      <td>104</td>\n",
              "      <td>79</td>\n",
              "      <td>3</td>\n",
              "    </tr>\n",
              "    <tr>\n",
              "      <th>2</th>\n",
              "      <td>84</td>\n",
              "      <td>102</td>\n",
              "      <td>102</td>\n",
              "      <td>83</td>\n",
              "      <td>80</td>\n",
              "      <td>102</td>\n",
              "      <td>102</td>\n",
              "      <td>79</td>\n",
              "      <td>84</td>\n",
              "      <td>94</td>\n",
              "      <td>102</td>\n",
              "      <td>79</td>\n",
              "      <td>84</td>\n",
              "      <td>103</td>\n",
              "      <td>104</td>\n",
              "      <td>81</td>\n",
              "      <td>84</td>\n",
              "      <td>99</td>\n",
              "      <td>104</td>\n",
              "      <td>78</td>\n",
              "      <td>84</td>\n",
              "      <td>99</td>\n",
              "      <td>104</td>\n",
              "      <td>81</td>\n",
              "      <td>84</td>\n",
              "      <td>107</td>\n",
              "      <td>113</td>\n",
              "      <td>87</td>\n",
              "      <td>84</td>\n",
              "      <td>99</td>\n",
              "      <td>104</td>\n",
              "      <td>79</td>\n",
              "      <td>84</td>\n",
              "      <td>99</td>\n",
              "      <td>104</td>\n",
              "      <td>79</td>\n",
              "      <td>3</td>\n",
              "    </tr>\n",
              "    <tr>\n",
              "      <th>3</th>\n",
              "      <td>80</td>\n",
              "      <td>102</td>\n",
              "      <td>102</td>\n",
              "      <td>79</td>\n",
              "      <td>84</td>\n",
              "      <td>94</td>\n",
              "      <td>102</td>\n",
              "      <td>79</td>\n",
              "      <td>80</td>\n",
              "      <td>94</td>\n",
              "      <td>98</td>\n",
              "      <td>76</td>\n",
              "      <td>84</td>\n",
              "      <td>99</td>\n",
              "      <td>104</td>\n",
              "      <td>78</td>\n",
              "      <td>84</td>\n",
              "      <td>99</td>\n",
              "      <td>104</td>\n",
              "      <td>81</td>\n",
              "      <td>76</td>\n",
              "      <td>99</td>\n",
              "      <td>104</td>\n",
              "      <td>81</td>\n",
              "      <td>84</td>\n",
              "      <td>99</td>\n",
              "      <td>104</td>\n",
              "      <td>79</td>\n",
              "      <td>84</td>\n",
              "      <td>99</td>\n",
              "      <td>104</td>\n",
              "      <td>79</td>\n",
              "      <td>84</td>\n",
              "      <td>103</td>\n",
              "      <td>104</td>\n",
              "      <td>79</td>\n",
              "      <td>3</td>\n",
              "    </tr>\n",
              "    <tr>\n",
              "      <th>4</th>\n",
              "      <td>84</td>\n",
              "      <td>94</td>\n",
              "      <td>102</td>\n",
              "      <td>79</td>\n",
              "      <td>80</td>\n",
              "      <td>94</td>\n",
              "      <td>98</td>\n",
              "      <td>76</td>\n",
              "      <td>80</td>\n",
              "      <td>102</td>\n",
              "      <td>102</td>\n",
              "      <td>79</td>\n",
              "      <td>84</td>\n",
              "      <td>99</td>\n",
              "      <td>104</td>\n",
              "      <td>81</td>\n",
              "      <td>76</td>\n",
              "      <td>99</td>\n",
              "      <td>104</td>\n",
              "      <td>81</td>\n",
              "      <td>76</td>\n",
              "      <td>99</td>\n",
              "      <td>108</td>\n",
              "      <td>85</td>\n",
              "      <td>84</td>\n",
              "      <td>99</td>\n",
              "      <td>104</td>\n",
              "      <td>79</td>\n",
              "      <td>84</td>\n",
              "      <td>103</td>\n",
              "      <td>104</td>\n",
              "      <td>79</td>\n",
              "      <td>79</td>\n",
              "      <td>107</td>\n",
              "      <td>109</td>\n",
              "      <td>87</td>\n",
              "      <td>3</td>\n",
              "    </tr>\n",
              "    <tr>\n",
              "      <th>...</th>\n",
              "      <td>...</td>\n",
              "      <td>...</td>\n",
              "      <td>...</td>\n",
              "      <td>...</td>\n",
              "      <td>...</td>\n",
              "      <td>...</td>\n",
              "      <td>...</td>\n",
              "      <td>...</td>\n",
              "      <td>...</td>\n",
              "      <td>...</td>\n",
              "      <td>...</td>\n",
              "      <td>...</td>\n",
              "      <td>...</td>\n",
              "      <td>...</td>\n",
              "      <td>...</td>\n",
              "      <td>...</td>\n",
              "      <td>...</td>\n",
              "      <td>...</td>\n",
              "      <td>...</td>\n",
              "      <td>...</td>\n",
              "      <td>...</td>\n",
              "      <td>...</td>\n",
              "      <td>...</td>\n",
              "      <td>...</td>\n",
              "      <td>...</td>\n",
              "      <td>...</td>\n",
              "      <td>...</td>\n",
              "      <td>...</td>\n",
              "      <td>...</td>\n",
              "      <td>...</td>\n",
              "      <td>...</td>\n",
              "      <td>...</td>\n",
              "      <td>...</td>\n",
              "      <td>...</td>\n",
              "      <td>...</td>\n",
              "      <td>...</td>\n",
              "      <td>...</td>\n",
              "    </tr>\n",
              "    <tr>\n",
              "      <th>4430</th>\n",
              "      <td>56</td>\n",
              "      <td>64</td>\n",
              "      <td>108</td>\n",
              "      <td>96</td>\n",
              "      <td>64</td>\n",
              "      <td>71</td>\n",
              "      <td>108</td>\n",
              "      <td>96</td>\n",
              "      <td>68</td>\n",
              "      <td>75</td>\n",
              "      <td>108</td>\n",
              "      <td>96</td>\n",
              "      <td>59</td>\n",
              "      <td>75</td>\n",
              "      <td>109</td>\n",
              "      <td>96</td>\n",
              "      <td>67</td>\n",
              "      <td>87</td>\n",
              "      <td>113</td>\n",
              "      <td>96</td>\n",
              "      <td>67</td>\n",
              "      <td>95</td>\n",
              "      <td>109</td>\n",
              "      <td>92</td>\n",
              "      <td>63</td>\n",
              "      <td>79</td>\n",
              "      <td>108</td>\n",
              "      <td>92</td>\n",
              "      <td>66</td>\n",
              "      <td>83</td>\n",
              "      <td>108</td>\n",
              "      <td>96</td>\n",
              "      <td>66</td>\n",
              "      <td>87</td>\n",
              "      <td>104</td>\n",
              "      <td>89</td>\n",
              "      <td>5</td>\n",
              "    </tr>\n",
              "    <tr>\n",
              "      <th>4431</th>\n",
              "      <td>64</td>\n",
              "      <td>71</td>\n",
              "      <td>108</td>\n",
              "      <td>96</td>\n",
              "      <td>68</td>\n",
              "      <td>75</td>\n",
              "      <td>108</td>\n",
              "      <td>96</td>\n",
              "      <td>71</td>\n",
              "      <td>87</td>\n",
              "      <td>108</td>\n",
              "      <td>88</td>\n",
              "      <td>67</td>\n",
              "      <td>87</td>\n",
              "      <td>113</td>\n",
              "      <td>96</td>\n",
              "      <td>67</td>\n",
              "      <td>95</td>\n",
              "      <td>109</td>\n",
              "      <td>92</td>\n",
              "      <td>75</td>\n",
              "      <td>99</td>\n",
              "      <td>104</td>\n",
              "      <td>83</td>\n",
              "      <td>66</td>\n",
              "      <td>83</td>\n",
              "      <td>108</td>\n",
              "      <td>96</td>\n",
              "      <td>66</td>\n",
              "      <td>87</td>\n",
              "      <td>104</td>\n",
              "      <td>89</td>\n",
              "      <td>63</td>\n",
              "      <td>87</td>\n",
              "      <td>104</td>\n",
              "      <td>89</td>\n",
              "      <td>5</td>\n",
              "    </tr>\n",
              "    <tr>\n",
              "      <th>4432</th>\n",
              "      <td>68</td>\n",
              "      <td>75</td>\n",
              "      <td>108</td>\n",
              "      <td>96</td>\n",
              "      <td>71</td>\n",
              "      <td>87</td>\n",
              "      <td>108</td>\n",
              "      <td>88</td>\n",
              "      <td>71</td>\n",
              "      <td>91</td>\n",
              "      <td>100</td>\n",
              "      <td>81</td>\n",
              "      <td>67</td>\n",
              "      <td>95</td>\n",
              "      <td>109</td>\n",
              "      <td>92</td>\n",
              "      <td>75</td>\n",
              "      <td>99</td>\n",
              "      <td>104</td>\n",
              "      <td>83</td>\n",
              "      <td>75</td>\n",
              "      <td>95</td>\n",
              "      <td>100</td>\n",
              "      <td>79</td>\n",
              "      <td>66</td>\n",
              "      <td>87</td>\n",
              "      <td>104</td>\n",
              "      <td>89</td>\n",
              "      <td>63</td>\n",
              "      <td>87</td>\n",
              "      <td>104</td>\n",
              "      <td>89</td>\n",
              "      <td>70</td>\n",
              "      <td>100</td>\n",
              "      <td>104</td>\n",
              "      <td>85</td>\n",
              "      <td>4</td>\n",
              "    </tr>\n",
              "    <tr>\n",
              "      <th>4433</th>\n",
              "      <td>71</td>\n",
              "      <td>87</td>\n",
              "      <td>108</td>\n",
              "      <td>88</td>\n",
              "      <td>71</td>\n",
              "      <td>91</td>\n",
              "      <td>100</td>\n",
              "      <td>81</td>\n",
              "      <td>76</td>\n",
              "      <td>95</td>\n",
              "      <td>108</td>\n",
              "      <td>88</td>\n",
              "      <td>75</td>\n",
              "      <td>99</td>\n",
              "      <td>104</td>\n",
              "      <td>83</td>\n",
              "      <td>75</td>\n",
              "      <td>95</td>\n",
              "      <td>100</td>\n",
              "      <td>79</td>\n",
              "      <td>71</td>\n",
              "      <td>91</td>\n",
              "      <td>100</td>\n",
              "      <td>83</td>\n",
              "      <td>63</td>\n",
              "      <td>87</td>\n",
              "      <td>104</td>\n",
              "      <td>89</td>\n",
              "      <td>70</td>\n",
              "      <td>100</td>\n",
              "      <td>104</td>\n",
              "      <td>85</td>\n",
              "      <td>70</td>\n",
              "      <td>91</td>\n",
              "      <td>104</td>\n",
              "      <td>85</td>\n",
              "      <td>4</td>\n",
              "    </tr>\n",
              "    <tr>\n",
              "      <th>4434</th>\n",
              "      <td>71</td>\n",
              "      <td>91</td>\n",
              "      <td>100</td>\n",
              "      <td>81</td>\n",
              "      <td>76</td>\n",
              "      <td>95</td>\n",
              "      <td>108</td>\n",
              "      <td>88</td>\n",
              "      <td>80</td>\n",
              "      <td>95</td>\n",
              "      <td>104</td>\n",
              "      <td>85</td>\n",
              "      <td>75</td>\n",
              "      <td>95</td>\n",
              "      <td>100</td>\n",
              "      <td>79</td>\n",
              "      <td>71</td>\n",
              "      <td>91</td>\n",
              "      <td>100</td>\n",
              "      <td>83</td>\n",
              "      <td>71</td>\n",
              "      <td>95</td>\n",
              "      <td>104</td>\n",
              "      <td>87</td>\n",
              "      <td>70</td>\n",
              "      <td>100</td>\n",
              "      <td>104</td>\n",
              "      <td>85</td>\n",
              "      <td>70</td>\n",
              "      <td>91</td>\n",
              "      <td>104</td>\n",
              "      <td>85</td>\n",
              "      <td>63</td>\n",
              "      <td>91</td>\n",
              "      <td>100</td>\n",
              "      <td>81</td>\n",
              "      <td>4</td>\n",
              "    </tr>\n",
              "  </tbody>\n",
              "</table>\n",
              "<p>4435 rows × 37 columns</p>\n",
              "</div>"
            ],
            "text/plain": [
              "     top_left1 top_left2 top_left3  ... bottom_right3 bottom_right4 Class\n",
              "0           92       115       120  ...           113            87     3\n",
              "1           84       102       106  ...           104            79     3\n",
              "2           84       102       102  ...           104            79     3\n",
              "3           80       102       102  ...           104            79     3\n",
              "4           84        94       102  ...           109            87     3\n",
              "...        ...       ...       ...  ...           ...           ...   ...\n",
              "4430        56        64       108  ...           104            89     5\n",
              "4431        64        71       108  ...           104            89     5\n",
              "4432        68        75       108  ...           104            85     4\n",
              "4433        71        87       108  ...           104            85     4\n",
              "4434        71        91       100  ...           100            81     4\n",
              "\n",
              "[4435 rows x 37 columns]"
            ]
          },
          "metadata": {
            "tags": []
          },
          "execution_count": 6
        }
      ]
    },
    {
      "cell_type": "markdown",
      "metadata": {
        "id": "NB543PAUm_Yc"
      },
      "source": [
        "In each line of data the four spectral values for the top-left pixel are given first followed by the four spectral values for the top-middle pixel and then those for the top-right pixel, and so on with the pixels read out in sequence left-to-right and top-to-bottom. \r\n",
        "\r\n",
        " Thus, the four spectral values for the central pixel are given by attributes 17,18,19 and 20 (which would be 'middle_center1', 'middle_center2', 'middle_center3', 'middle_center4'). If you like you can use only these four attributes, while ignoring the others. This avoids the problem which arises when a 3x3 neighbourhood straddles a boundary."
      ]
    },
    {
      "cell_type": "code",
      "metadata": {
        "id": "MQwGgBX65akV"
      },
      "source": [
        "sat_band1 = sat[['top_left1', 'top_center1', 'top_right1', \r\n",
        "                 'middle_left1', 'middle_center1', 'middle_right1',\r\n",
        "                 'bottom_left1', 'bottom_center1', 'bottom_right1']].astype('int')\r\n",
        "sat_band2 = sat[['top_left2', 'top_center2', 'top_right2', \r\n",
        "                 'middle_left2', 'middle_center2', 'middle_right2', \r\n",
        "                 'bottom_left2', 'bottom_center2', 'bottom_right2']].astype('int')\r\n",
        "sat_band3 = sat[['top_left3', 'top_center3', 'top_right3', \r\n",
        "                 'middle_left3', 'middle_center3', 'middle_right3', \r\n",
        "                 'bottom_left3', 'bottom_center3', 'bottom_right3']].astype('int')\r\n",
        "sat_band4 = sat[['top_left4', 'top_center4', 'top_right4', \r\n",
        "                 'middle_left4', 'middle_center4', 'middle_right4', \r\n",
        "                 'bottom_left4', 'bottom_center4', 'bottom_right4']].astype('int')"
      ],
      "execution_count": 7,
      "outputs": []
    },
    {
      "cell_type": "code",
      "metadata": {
        "colab": {
          "base_uri": "https://localhost:8080/"
        },
        "id": "_b3NX6YaAocy",
        "outputId": "43d5a6fa-2fbc-4510-8fa5-95bfe57d385b"
      },
      "source": [
        "sat_band1.values"
      ],
      "execution_count": 8,
      "outputs": [
        {
          "output_type": "execute_result",
          "data": {
            "text/plain": [
              "array([[ 92,  84,  84, ..., 102,  88,  84],\n",
              "       [ 84,  84,  80, ...,  88,  84,  84],\n",
              "       [ 84,  80,  84, ...,  84,  84,  84],\n",
              "       ...,\n",
              "       [ 68,  71,  71, ...,  66,  63,  70],\n",
              "       [ 71,  71,  76, ...,  63,  70,  70],\n",
              "       [ 71,  76,  80, ...,  70,  70,  63]])"
            ]
          },
          "metadata": {
            "tags": []
          },
          "execution_count": 8
        }
      ]
    },
    {
      "cell_type": "code",
      "metadata": {
        "colab": {
          "base_uri": "https://localhost:8080/",
          "height": 80
        },
        "id": "mJOwvbCLTa2u",
        "outputId": "4a40ae10-0ab9-49eb-fe4b-f08c869d6494"
      },
      "source": [
        "sat_band1.iloc[3000:3001]"
      ],
      "execution_count": 9,
      "outputs": [
        {
          "output_type": "execute_result",
          "data": {
            "text/html": [
              "<div>\n",
              "<style scoped>\n",
              "    .dataframe tbody tr th:only-of-type {\n",
              "        vertical-align: middle;\n",
              "    }\n",
              "\n",
              "    .dataframe tbody tr th {\n",
              "        vertical-align: top;\n",
              "    }\n",
              "\n",
              "    .dataframe thead th {\n",
              "        text-align: right;\n",
              "    }\n",
              "</style>\n",
              "<table border=\"1\" class=\"dataframe\">\n",
              "  <thead>\n",
              "    <tr style=\"text-align: right;\">\n",
              "      <th></th>\n",
              "      <th>top_left1</th>\n",
              "      <th>top_center1</th>\n",
              "      <th>top_right1</th>\n",
              "      <th>middle_left1</th>\n",
              "      <th>middle_center1</th>\n",
              "      <th>middle_right1</th>\n",
              "      <th>bottom_left1</th>\n",
              "      <th>bottom_center1</th>\n",
              "      <th>bottom_right1</th>\n",
              "    </tr>\n",
              "  </thead>\n",
              "  <tbody>\n",
              "    <tr>\n",
              "      <th>3000</th>\n",
              "      <td>60</td>\n",
              "      <td>53</td>\n",
              "      <td>64</td>\n",
              "      <td>64</td>\n",
              "      <td>60</td>\n",
              "      <td>71</td>\n",
              "      <td>63</td>\n",
              "      <td>59</td>\n",
              "      <td>71</td>\n",
              "    </tr>\n",
              "  </tbody>\n",
              "</table>\n",
              "</div>"
            ],
            "text/plain": [
              "      top_left1  top_center1  ...  bottom_center1  bottom_right1\n",
              "3000         60           53  ...              59             71\n",
              "\n",
              "[1 rows x 9 columns]"
            ]
          },
          "metadata": {
            "tags": []
          },
          "execution_count": 9
        }
      ]
    },
    {
      "cell_type": "code",
      "metadata": {
        "colab": {
          "base_uri": "https://localhost:8080/"
        },
        "id": "61UBoROqE3l3",
        "outputId": "877ba89a-0346-42aa-dfd4-7d6e849facb6"
      },
      "source": [
        "# soil with vegetation stubble\r\n",
        "dfs = sat_band1.iloc[3000:3001].to_numpy()\r\n",
        "dfs"
      ],
      "execution_count": 10,
      "outputs": [
        {
          "output_type": "execute_result",
          "data": {
            "text/plain": [
              "array([[60, 53, 64, 64, 60, 71, 63, 59, 71]])"
            ]
          },
          "metadata": {
            "tags": []
          },
          "execution_count": 10
        }
      ]
    },
    {
      "cell_type": "code",
      "metadata": {
        "colab": {
          "base_uri": "https://localhost:8080/"
        },
        "id": "j4aFMjoyRbOK",
        "outputId": "4dccf214-5258-4568-aa1c-a7a3d121a2e8"
      },
      "source": [
        "dfs = np.reshape(dfs, (3,3))\r\n",
        "dfs"
      ],
      "execution_count": 11,
      "outputs": [
        {
          "output_type": "execute_result",
          "data": {
            "text/plain": [
              "array([[60, 53, 64],\n",
              "       [64, 60, 71],\n",
              "       [63, 59, 71]])"
            ]
          },
          "metadata": {
            "tags": []
          },
          "execution_count": 11
        }
      ]
    },
    {
      "cell_type": "code",
      "metadata": {
        "colab": {
          "base_uri": "https://localhost:8080/",
          "height": 286
        },
        "id": "HXetevJ5I6-v",
        "outputId": "60b7532a-7a34-4a8b-ec1a-55d8415f45c2"
      },
      "source": [
        "import matplotlib\r\n",
        "\r\n",
        "plt.imshow(dfs, cmap = matplotlib.cm.binary, interpolation='nearest')"
      ],
      "execution_count": 12,
      "outputs": [
        {
          "output_type": "execute_result",
          "data": {
            "text/plain": [
              "<matplotlib.image.AxesImage at 0x7f0452fb9978>"
            ]
          },
          "metadata": {
            "tags": []
          },
          "execution_count": 12
        },
        {
          "output_type": "display_data",
          "data": {
            "image/png": "[encoded data removed]",
            "text/plain": [
              "<Figure size 432x288 with 1 Axes>"
            ]
          },
          "metadata": {
            "tags": [],
            "needs_background": "light"
          }
        }
      ]
    },
    {
      "cell_type": "markdown",
      "metadata": {
        "id": "v2xIAvsfTilO"
      },
      "source": [
        "However, that is somewhat fruitless, since as said in the documentation: \"the data is given in random order and certain lines of data have been removed so you cannot reconstruct the original image from this dataset.\" Therefore, the machine learning algorithm would have to work without the image, since we cannot arrange the whole image in any consistant way.\r\n",
        "\r\n",
        "# Binary Classification\r\n",
        "\r\n",
        "Let's make a Binary Classification in which we find class of 5 (soil with vegetation stubble) among classes of non-5 (non-soil with vegetation stubble).\r\n",
        "\r\n",
        "First thing, it might be interesting to divide the 4 Bands all through, instead of line by line."
      ]
    },
    {
      "cell_type": "code",
      "metadata": {
        "colab": {
          "base_uri": "https://localhost:8080/",
          "height": 204
        },
        "id": "1hnd91BeU38W",
        "outputId": "8d96566f-950c-43ad-e838-65a0e9185343"
      },
      "source": [
        "sat_band1.head()"
      ],
      "execution_count": 13,
      "outputs": [
        {
          "output_type": "execute_result",
          "data": {
            "text/html": [
              "<div>\n",
              "<style scoped>\n",
              "    .dataframe tbody tr th:only-of-type {\n",
              "        vertical-align: middle;\n",
              "    }\n",
              "\n",
              "    .dataframe tbody tr th {\n",
              "        vertical-align: top;\n",
              "    }\n",
              "\n",
              "    .dataframe thead th {\n",
              "        text-align: right;\n",
              "    }\n",
              "</style>\n",
              "<table border=\"1\" class=\"dataframe\">\n",
              "  <thead>\n",
              "    <tr style=\"text-align: right;\">\n",
              "      <th></th>\n",
              "      <th>top_left1</th>\n",
              "      <th>top_center1</th>\n",
              "      <th>top_right1</th>\n",
              "      <th>middle_left1</th>\n",
              "      <th>middle_center1</th>\n",
              "      <th>middle_right1</th>\n",
              "      <th>bottom_left1</th>\n",
              "      <th>bottom_center1</th>\n",
              "      <th>bottom_right1</th>\n",
              "    </tr>\n",
              "  </thead>\n",
              "  <tbody>\n",
              "    <tr>\n",
              "      <th>0</th>\n",
              "      <td>92</td>\n",
              "      <td>84</td>\n",
              "      <td>84</td>\n",
              "      <td>101</td>\n",
              "      <td>92</td>\n",
              "      <td>84</td>\n",
              "      <td>102</td>\n",
              "      <td>88</td>\n",
              "      <td>84</td>\n",
              "    </tr>\n",
              "    <tr>\n",
              "      <th>1</th>\n",
              "      <td>84</td>\n",
              "      <td>84</td>\n",
              "      <td>80</td>\n",
              "      <td>92</td>\n",
              "      <td>84</td>\n",
              "      <td>84</td>\n",
              "      <td>88</td>\n",
              "      <td>84</td>\n",
              "      <td>84</td>\n",
              "    </tr>\n",
              "    <tr>\n",
              "      <th>2</th>\n",
              "      <td>84</td>\n",
              "      <td>80</td>\n",
              "      <td>84</td>\n",
              "      <td>84</td>\n",
              "      <td>84</td>\n",
              "      <td>84</td>\n",
              "      <td>84</td>\n",
              "      <td>84</td>\n",
              "      <td>84</td>\n",
              "    </tr>\n",
              "    <tr>\n",
              "      <th>3</th>\n",
              "      <td>80</td>\n",
              "      <td>84</td>\n",
              "      <td>80</td>\n",
              "      <td>84</td>\n",
              "      <td>84</td>\n",
              "      <td>76</td>\n",
              "      <td>84</td>\n",
              "      <td>84</td>\n",
              "      <td>84</td>\n",
              "    </tr>\n",
              "    <tr>\n",
              "      <th>4</th>\n",
              "      <td>84</td>\n",
              "      <td>80</td>\n",
              "      <td>80</td>\n",
              "      <td>84</td>\n",
              "      <td>76</td>\n",
              "      <td>76</td>\n",
              "      <td>84</td>\n",
              "      <td>84</td>\n",
              "      <td>79</td>\n",
              "    </tr>\n",
              "  </tbody>\n",
              "</table>\n",
              "</div>"
            ],
            "text/plain": [
              "   top_left1  top_center1  ...  bottom_center1  bottom_right1\n",
              "0         92           84  ...              88             84\n",
              "1         84           84  ...              84             84\n",
              "2         84           80  ...              84             84\n",
              "3         80           84  ...              84             84\n",
              "4         84           80  ...              84             79\n",
              "\n",
              "[5 rows x 9 columns]"
            ]
          },
          "metadata": {
            "tags": []
          },
          "execution_count": 13
        }
      ]
    },
    {
      "cell_type": "code",
      "metadata": {
        "id": "8NLr1f01VgSa"
      },
      "source": [
        "sat_band1 = sat_band1.to_numpy()\r\n",
        "sat_band2 = sat_band2.to_numpy()\r\n",
        "sat_band3 = sat_band3.to_numpy()\r\n",
        "sat_band4 = sat_band4.to_numpy()"
      ],
      "execution_count": 14,
      "outputs": []
    },
    {
      "cell_type": "code",
      "metadata": {
        "colab": {
          "base_uri": "https://localhost:8080/"
        },
        "id": "ovx1X3WeZhfH",
        "outputId": "2c765e2e-fb0d-40e9-ec76-05b187c2f54b"
      },
      "source": [
        "sat_band1[0]"
      ],
      "execution_count": 15,
      "outputs": [
        {
          "output_type": "execute_result",
          "data": {
            "text/plain": [
              "array([ 92,  84,  84, 101,  92,  84, 102,  88,  84])"
            ]
          },
          "metadata": {
            "tags": []
          },
          "execution_count": 15
        }
      ]
    },
    {
      "cell_type": "code",
      "metadata": {
        "id": "lHFG55tgWF2g"
      },
      "source": [
        "band1, band2, band3, band4 = [], [], [], []\r\n",
        "\r\n",
        "for i in range(0,len(sat_band1)):\r\n",
        "  array = sat_band1[i]\r\n",
        "  array = np.reshape(array, (3,3))\r\n",
        "  band1.append(array)\r\n",
        "\r\n",
        "for i in range(0,len(sat_band2)):\r\n",
        "  array = sat_band2[i]\r\n",
        "  array = np.reshape(array, (3,3))\r\n",
        "  band2.append(array)\r\n",
        "\r\n",
        "for i in range(0,len(sat_band3)):\r\n",
        "  array = sat_band3[i]\r\n",
        "  array = np.reshape(array, (3,3))\r\n",
        "  band3.append(array)\r\n",
        "\r\n",
        "for i in range(0,len(sat_band4)):\r\n",
        "  array = sat_band4[i]\r\n",
        "  array = np.reshape(array, (3,3))\r\n",
        "  band4.append(array)"
      ],
      "execution_count": 16,
      "outputs": []
    },
    {
      "cell_type": "code",
      "metadata": {
        "colab": {
          "base_uri": "https://localhost:8080/"
        },
        "id": "8uefghxZWtsk",
        "outputId": "26a6f7e6-2704-4a87-c033-064be9a729c2"
      },
      "source": [
        "band1[0]"
      ],
      "execution_count": 17,
      "outputs": [
        {
          "output_type": "execute_result",
          "data": {
            "text/plain": [
              "array([[ 92,  84,  84],\n",
              "       [101,  92,  84],\n",
              "       [102,  88,  84]])"
            ]
          },
          "metadata": {
            "tags": []
          },
          "execution_count": 17
        }
      ]
    },
    {
      "cell_type": "code",
      "metadata": {
        "colab": {
          "base_uri": "https://localhost:8080/"
        },
        "id": "6-j_Z49Chs_t",
        "outputId": "defb2f44-deaf-4e0f-cdd6-fbee32dfcc34"
      },
      "source": [
        "len(band1)"
      ],
      "execution_count": 18,
      "outputs": [
        {
          "output_type": "execute_result",
          "data": {
            "text/plain": [
              "4435"
            ]
          },
          "metadata": {
            "tags": []
          },
          "execution_count": 18
        }
      ]
    },
    {
      "cell_type": "code",
      "metadata": {
        "colab": {
          "base_uri": "https://localhost:8080/",
          "height": 286
        },
        "id": "L4k81S_8T1Td",
        "outputId": "3f3049f2-dde7-4ff5-ad8a-f238d4dd605a"
      },
      "source": [
        "plt.imshow(band1[0], cmap = matplotlib.cm.binary, interpolation='nearest')"
      ],
      "execution_count": 19,
      "outputs": [
        {
          "output_type": "execute_result",
          "data": {
            "text/plain": [
              "<matplotlib.image.AxesImage at 0x7f0452970438>"
            ]
          },
          "metadata": {
            "tags": []
          },
          "execution_count": 19
        },
        {
          "output_type": "display_data",
          "data": {
            "image/png": "[encoded data removed]",
            "text/plain": [
              "<Figure size 432x288 with 1 Axes>"
            ]
          },
          "metadata": {
            "tags": [],
            "needs_background": "light"
          }
        }
      ]
    },
    {
      "cell_type": "code",
      "metadata": {
        "colab": {
          "base_uri": "https://localhost:8080/"
        },
        "id": "P5D2jRzPrKra",
        "outputId": "a86f42d6-f866-4c4c-b892-4d316cb67423"
      },
      "source": [
        "sat.columns"
      ],
      "execution_count": 20,
      "outputs": [
        {
          "output_type": "execute_result",
          "data": {
            "text/plain": [
              "Index(['top_left1', 'top_left2', 'top_left3', 'top_left4', 'top_center1',\n",
              "       'top_center2', 'top_center3', 'top_center4', 'top_right1', 'top_right2',\n",
              "       'top_right3', 'top_right4', 'middle_left1', 'middle_left2',\n",
              "       'middle_left3', 'middle_left4', 'middle_center1', 'middle_center2',\n",
              "       'middle_center3', 'middle_center4', 'middle_right1', 'middle_right2',\n",
              "       'middle_right3', 'middle_right4', 'bottom_left1', 'bottom_left2',\n",
              "       'bottom_left3', 'bottom_left4', 'bottom_center1', 'bottom_center2',\n",
              "       'bottom_center3', 'bottom_center4', 'bottom_right1', 'bottom_right2',\n",
              "       'bottom_right3', 'bottom_right4', 'Class'],\n",
              "      dtype='object')"
            ]
          },
          "metadata": {
            "tags": []
          },
          "execution_count": 20
        }
      ]
    },
    {
      "cell_type": "code",
      "metadata": {
        "id": "pt24ek5GqwvD"
      },
      "source": [
        "sat_band1 = sat[['top_left1', 'top_center1', 'top_right1', \r\n",
        "                 'middle_left1', 'middle_center1', 'middle_right1',\r\n",
        "                 'bottom_left1', 'bottom_center1', 'bottom_right1', 'Class']].astype('int')\r\n",
        "sat_band2 = sat[['top_left2', 'top_center2', 'top_right2', \r\n",
        "                 'middle_left2', 'middle_center2', 'middle_right2', \r\n",
        "                 'bottom_left2', 'bottom_center2', 'bottom_right2', 'Class']].astype('int')\r\n",
        "sat_band3 = sat[['top_left3', 'top_center3', 'top_right3', \r\n",
        "                 'middle_left3', 'middle_center3', 'middle_right3', \r\n",
        "                 'bottom_left3', 'bottom_center3', 'bottom_right3', 'Class']].astype('int')\r\n",
        "sat_band4 = sat[['top_left4', 'top_center4', 'top_right4', \r\n",
        "                 'middle_left4', 'middle_center4', 'middle_right4', \r\n",
        "                 'bottom_left4', 'bottom_center4', 'bottom_right4', 'Class']].astype('int')"
      ],
      "execution_count": 21,
      "outputs": []
    },
    {
      "cell_type": "code",
      "metadata": {
        "colab": {
          "base_uri": "https://localhost:8080/"
        },
        "id": "sxyc86fnx1Qi",
        "outputId": "f4b88ce4-0294-403a-cec2-9b4913ddba01"
      },
      "source": [
        "band_1 = sat[['middle_center1', 'Class']].astype('int')\r\n",
        "band_01 = band_1[['middle_center1']].to_numpy()\r\n",
        "band_01"
      ],
      "execution_count": 22,
      "outputs": [
        {
          "output_type": "execute_result",
          "data": {
            "text/plain": [
              "array([[92],\n",
              "       [84],\n",
              "       [84],\n",
              "       ...,\n",
              "       [75],\n",
              "       [75],\n",
              "       [71]])"
            ]
          },
          "metadata": {
            "tags": []
          },
          "execution_count": 22
        }
      ]
    },
    {
      "cell_type": "code",
      "metadata": {
        "colab": {
          "base_uri": "https://localhost:8080/"
        },
        "id": "c_LbHtQsqxrF",
        "outputId": "a711e94a-70b7-4646-f0f4-803f89d4ea93"
      },
      "source": [
        "band1_5 = (sat_band1['Class'] == 5) # True for all 5s. False for others.\r\n",
        "band1_5"
      ],
      "execution_count": 23,
      "outputs": [
        {
          "output_type": "execute_result",
          "data": {
            "text/plain": [
              "0       False\n",
              "1       False\n",
              "2       False\n",
              "3       False\n",
              "4       False\n",
              "        ...  \n",
              "4430     True\n",
              "4431     True\n",
              "4432    False\n",
              "4433    False\n",
              "4434    False\n",
              "Name: Class, Length: 4435, dtype: bool"
            ]
          },
          "metadata": {
            "tags": []
          },
          "execution_count": 23
        }
      ]
    },
    {
      "cell_type": "code",
      "metadata": {
        "colab": {
          "base_uri": "https://localhost:8080/"
        },
        "id": "I02aelCuqzVO",
        "outputId": "40d4b0ef-cdba-4eb7-95a7-d6cc3f59a78d"
      },
      "source": [
        "from sklearn.linear_model import SGDClassifier\r\n",
        "\r\n",
        "sgd_clf = SGDClassifier(random_state=42)\r\n",
        "sgd_clf.fit(band_01, band1_5)"
      ],
      "execution_count": 24,
      "outputs": [
        {
          "output_type": "execute_result",
          "data": {
            "text/plain": [
              "SGDClassifier(alpha=0.0001, average=False, class_weight=None,\n",
              "              early_stopping=False, epsilon=0.1, eta0=0.0, fit_intercept=True,\n",
              "              l1_ratio=0.15, learning_rate='optimal', loss='hinge',\n",
              "              max_iter=1000, n_iter_no_change=5, n_jobs=None, penalty='l2',\n",
              "              power_t=0.5, random_state=42, shuffle=True, tol=0.001,\n",
              "              validation_fraction=0.1, verbose=0, warm_start=False)"
            ]
          },
          "metadata": {
            "tags": []
          },
          "execution_count": 24
        }
      ]
    },
    {
      "cell_type": "code",
      "metadata": {
        "colab": {
          "base_uri": "https://localhost:8080/"
        },
        "id": "BIFyMcwQ0L5f",
        "outputId": "bda61a36-a1aa-43bc-a94f-cb96481bf5d0"
      },
      "source": [
        "band_01[0]"
      ],
      "execution_count": 25,
      "outputs": [
        {
          "output_type": "execute_result",
          "data": {
            "text/plain": [
              "array([92])"
            ]
          },
          "metadata": {
            "tags": []
          },
          "execution_count": 25
        }
      ]
    },
    {
      "cell_type": "code",
      "metadata": {
        "id": "1f_Gbc5txNqH"
      },
      "source": [
        "detect = []\r\n",
        "\r\n",
        "for i in range(0,len(band_01)):\r\n",
        "  pred = sgd_clf.predict([band_01[i]])\r\n",
        "  detect.append(pred)"
      ],
      "execution_count": 26,
      "outputs": []
    },
    {
      "cell_type": "code",
      "metadata": {
        "colab": {
          "base_uri": "https://localhost:8080/"
        },
        "id": "K8eTq6mt7Nyy",
        "outputId": "6a9bdb03-fbad-42e0-e29b-5b37349ba3e7"
      },
      "source": [
        "unique, counts = np.unique(detect, return_counts=True)\r\n",
        "dict(zip(unique, counts))"
      ],
      "execution_count": 27,
      "outputs": [
        {
          "output_type": "execute_result",
          "data": {
            "text/plain": [
              "{False: 4101, True: 334}"
            ]
          },
          "metadata": {
            "tags": []
          },
          "execution_count": 27
        }
      ]
    },
    {
      "cell_type": "code",
      "metadata": {
        "colab": {
          "base_uri": "https://localhost:8080/"
        },
        "id": "pX5dHptR7uvz",
        "outputId": "3c4b0ef9-8767-4ab3-df82-9dc9e3aa104e"
      },
      "source": [
        "sat['Class'].value_counts()"
      ],
      "execution_count": 28,
      "outputs": [
        {
          "output_type": "execute_result",
          "data": {
            "text/plain": [
              "1    1072\n",
              "7    1038\n",
              "3     961\n",
              "2     479\n",
              "5     470\n",
              "4     415\n",
              "Name: Class, dtype: int64"
            ]
          },
          "metadata": {
            "tags": []
          },
          "execution_count": 28
        }
      ]
    },
    {
      "cell_type": "code",
      "metadata": {
        "colab": {
          "base_uri": "https://localhost:8080/"
        },
        "id": "mDB1o9rtDFJv",
        "outputId": "d7fe9118-79c9-4d96-8541-c70ff5bc2995"
      },
      "source": [
        "detect[0]"
      ],
      "execution_count": 29,
      "outputs": [
        {
          "output_type": "execute_result",
          "data": {
            "text/plain": [
              "array([False])"
            ]
          },
          "metadata": {
            "tags": []
          },
          "execution_count": 29
        }
      ]
    },
    {
      "cell_type": "code",
      "metadata": {
        "colab": {
          "base_uri": "https://localhost:8080/"
        },
        "id": "ryxde1LLC6iP",
        "outputId": "78c8f004-e3c9-4dd1-8f0f-c87d46aeeb4e"
      },
      "source": [
        "from sklearn.model_selection import cross_val_score\r\n",
        "cross_val_score(sgd_clf, band_01, band1_5, cv=3, scoring=\"accuracy\")"
      ],
      "execution_count": 30,
      "outputs": [
        {
          "output_type": "execute_result",
          "data": {
            "text/plain": [
              "array([0.70520622, 0.87077131, 0.86400541])"
            ]
          },
          "metadata": {
            "tags": []
          },
          "execution_count": 30
        }
      ]
    },
    {
      "cell_type": "markdown",
      "metadata": {
        "id": "ruhqAb4vDg9o"
      },
      "source": [
        "Between 70.52-86.40 % accuracy (ratio of correct predictions)."
      ]
    },
    {
      "cell_type": "code",
      "metadata": {
        "id": "ooqGd9jEDZ1C"
      },
      "source": [
        "from sklearn.base import BaseEstimator\r\n",
        "class Never5Classifier(BaseEstimator):\r\n",
        "  def fit(self, X, y=None):\r\n",
        "    pass\r\n",
        "  def predict(self, X):\r\n",
        "    return np.zeros((len(X), 1), dtype=bool)"
      ],
      "execution_count": 31,
      "outputs": []
    },
    {
      "cell_type": "code",
      "metadata": {
        "colab": {
          "base_uri": "https://localhost:8080/"
        },
        "id": "YHijGfw2DzdR",
        "outputId": "6b4811f0-edd4-4bd0-fb6e-ec13cb724fa9"
      },
      "source": [
        "never_5_clf = Never5Classifier()\r\n",
        "cross_val_score(never_5_clf, band_01, band1_5, cv=3, scoring=\"accuracy\")"
      ],
      "execution_count": 32,
      "outputs": [
        {
          "output_type": "execute_result",
          "data": {
            "text/plain": [
              "array([0.89790399, 0.86671177, 0.91745602])"
            ]
          },
          "metadata": {
            "tags": []
          },
          "execution_count": 32
        }
      ]
    },
    {
      "cell_type": "markdown",
      "metadata": {
        "id": "TcS5oVr5EUvp"
      },
      "source": [
        "Between 86.67-91.74 % accuracy (ratio of correct predictions)."
      ]
    },
    {
      "cell_type": "code",
      "metadata": {
        "id": "nS7q2BsREfvx"
      },
      "source": [
        "from sklearn.model_selection import cross_val_predict\r\n",
        "y_train_pred = cross_val_predict(sgd_clf, band_01, band1_5, cv=3)"
      ],
      "execution_count": 33,
      "outputs": []
    },
    {
      "cell_type": "code",
      "metadata": {
        "colab": {
          "base_uri": "https://localhost:8080/"
        },
        "id": "Fx7VTJVwEzBd",
        "outputId": "63460bd5-a7c9-4c33-bb0c-5108c5ba64da"
      },
      "source": [
        "from sklearn.metrics import confusion_matrix\r\n",
        "confusion_matrix(band1_5, y_train_pred)"
      ],
      "execution_count": 34,
      "outputs": [
        {
          "output_type": "execute_result",
          "data": {
            "text/plain": [
              "array([[3596,  369],\n",
              "       [ 459,   11]])"
            ]
          },
          "metadata": {
            "tags": []
          },
          "execution_count": 34
        }
      ]
    },
    {
      "cell_type": "markdown",
      "metadata": {
        "id": "LkXas7blGle1"
      },
      "source": [
        "## Precision and Recall"
      ]
    },
    {
      "cell_type": "code",
      "metadata": {
        "colab": {
          "base_uri": "https://localhost:8080/"
        },
        "id": "PAlT5w1aFCTV",
        "outputId": "b1d2d19b-8f57-4fac-a8e7-3da304e1da19"
      },
      "source": [
        "from sklearn.metrics import precision_score, recall_score\r\n",
        "precision_score(band1_5, y_train_pred) # == 4344 / (4344 + 1307)"
      ],
      "execution_count": 35,
      "outputs": [
        {
          "output_type": "execute_result",
          "data": {
            "text/plain": [
              "0.02894736842105263"
            ]
          },
          "metadata": {
            "tags": []
          },
          "execution_count": 35
        }
      ]
    }
  ]
}